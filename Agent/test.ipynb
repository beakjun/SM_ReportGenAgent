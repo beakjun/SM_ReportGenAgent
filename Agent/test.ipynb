{
 "cells": [
  {
   "cell_type": "code",
   "execution_count": 1,
   "id": "e24d2e94-7a3e-49a3-a43d-db7c49fce2dc",
   "metadata": {},
   "outputs": [
    {
     "name": "stderr",
     "output_type": "stream",
     "text": [
      "C:\\Users\\EXEM\\Documents\\20_Project\\2502_Doosan(2507_)\\ReportGenAgent\\ReportGenAgent\\graph.py:1: LangChainDeprecationWarning: As of langchain-core 0.3.0, LangChain uses pydantic v2 internally. The langchain_core.pydantic_v1 module was a compatibility shim for pydantic v1, and should no longer be used. Please update the code to import from Pydantic directly.\n",
      "\n",
      "For example, replace imports like: `from langchain_core.pydantic_v1 import BaseModel`\n",
      "with: `from pydantic import BaseModel`\n",
      "or the v1 compatibility namespace if you are working in a code base that has not been fully upgraded to pydantic 2 yet. \tfrom pydantic.v1 import BaseModel\n",
      "\n",
      "  from nodes import *\n",
      "C:\\Users\\EXEM\\Documents\\20_Project\\2502_Doosan(2507_)\\ReportGenAgent\\ReportGenAgent\\source.py:23: LangChainDeprecationWarning: The class `HuggingFaceEmbeddings` was deprecated in LangChain 0.2.2 and will be removed in 1.0. An updated version of the class exists in the :class:`~langchain-huggingface package and should be used instead. To use it run `pip install -U :class:`~langchain-huggingface` and import as `from :class:`~langchain_huggingface import HuggingFaceEmbeddings``.\n",
      "  embedding = HuggingFaceEmbeddings(\n",
      "C:\\Users\\EXEM\\Documents\\20_Project\\2502_Doosan(2507_)\\doosan\\Lib\\site-packages\\tqdm\\auto.py:21: TqdmWarning: IProgress not found. Please update jupyter and ipywidgets. See https://ipywidgets.readthedocs.io/en/stable/user_install.html\n",
      "  from .autonotebook import tqdm as notebook_tqdm\n",
      "C:\\Users\\EXEM\\Documents\\20_Project\\2502_Doosan(2507_)\\ReportGenAgent\\ReportGenAgent\\source.py:32: LangChainDeprecationWarning: The class `Chroma` was deprecated in LangChain 0.2.9 and will be removed in 1.0. An updated version of the class exists in the :class:`~langchain-chroma package and should be used instead. To use it run `pip install -U :class:`~langchain-chroma` and import as `from :class:`~langchain_chroma import Chroma``.\n",
      "  vectorstore = Chroma(\n",
      "C:\\Users\\EXEM\\Documents\\20_Project\\2502_Doosan(2507_)\\ReportGenAgent\\ReportGenAgent\\tools.py:230: LangChainDeprecationWarning: The class `TavilySearchResults` was deprecated in LangChain 0.3.25 and will be removed in 1.0. An updated version of the class exists in the :class:`~langchain-tavily package and should be used instead. To use it run `pip install -U :class:`~langchain-tavily` and import as `from :class:`~langchain_tavily import TavilySearch``.\n",
      "  report_tools = [TavilySearchResults(max_results=3), load_data, visualize_data]\n"
     ]
    },
    {
     "name": "stdout",
     "output_type": "stream",
     "text": [
      "get_mode 시작\n",
      "get_mode 완료\n",
      "response_customer 시작\n",
      "response_customer 완료\n"
     ]
    },
    {
     "data": {
      "text/plain": [
       "{'query': '한국 축구 국가대표님 전력분석을 해줘',\n",
       " 'query_id': 'afd41f9bae5b11f0a74700e04c36949a',\n",
       " 'history': [{'user_query': '한국 축구 국가대표님 전력분석을 해줘',\n",
       "   'ai_answer': '한국 축구 국가대표팀의 전력 분석 정보를 요청하셨군요.\\n\\n죄송하지만, 현재 제가 참고할 수 있는 정보는 야구 관련 내용에 한정되어 있어 축구 전력 분석에 대한 자료는 포함하고 있지 않습니다. 혹시 야구 관련 정보나 다른 궁금한 점이 있으시다면 언제든지 다시 질문해 주세요.',\n",
       "   'ts': datetime.datetime(2025, 10, 21, 17, 55, 34, 841848)}],\n",
       " 'mode': 'ect',\n",
       " 'doc_val_reason': '사용자 요청은 야구와 관련이 없는 축구 전력 분석 요청입니다. 따라서 task와 report 어디에도 해당하지 않습니다.',\n",
       " 'tasks': [],\n",
       " 'current_task_index': 0,\n",
       " 'results': [],\n",
       " 'final_output': '한국 축구 국가대표팀의 전력 분석 정보를 요청하셨군요.\\n\\n죄송하지만, 현재 제가 참고할 수 있는 정보는 야구 관련 내용에 한정되어 있어 축구 전력 분석에 대한 자료는 포함하고 있지 않습니다. 혹시 야구 관련 정보나 다른 궁금한 점이 있으시다면 언제든지 다시 질문해 주세요.'}"
      ]
     },
     "execution_count": 1,
     "metadata": {},
     "output_type": "execute_result"
    }
   ],
   "source": [
    "from graph import graph\n",
    "\n",
    "conversation_id = \"my-test-session-001\" \n",
    "config = {\"configurable\": {\"thread_id\": conversation_id}}\n",
    "\n",
    "graph.invoke({'query':'한국 축구 국가대표님 전력분석을 해줘'}, config=config)"
   ]
  }
 ],
 "metadata": {
  "kernelspec": {
   "display_name": "Python 3 (ipykernel)",
   "language": "python",
   "name": "python3"
  },
  "language_info": {
   "codemirror_mode": {
    "name": "ipython",
    "version": 3
   },
   "file_extension": ".py",
   "mimetype": "text/x-python",
   "name": "python",
   "nbconvert_exporter": "python",
   "pygments_lexer": "ipython3",
   "version": "3.11.1"
  }
 },
 "nbformat": 4,
 "nbformat_minor": 5
}
