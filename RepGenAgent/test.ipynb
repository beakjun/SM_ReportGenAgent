{
 "cells": [
  {
   "cell_type": "code",
   "execution_count": 3,
   "id": "cbcde2cc-d46f-485d-a658-88a9e6fe1909",
   "metadata": {},
   "outputs": [],
   "source": [
    "from RepGenAgent.Graph import graph"
   ]
  },
  {
   "cell_type": "code",
   "execution_count": 4,
   "id": "0a6f8d68-e523-41fe-b400-ef6d474ece4b",
   "metadata": {},
   "outputs": [
    {
     "name": "stdout",
     "output_type": "stream",
     "text": [
      "get_mode 시작\n",
      "get_mode 완료\n",
      "response_customer 시작\n",
      "response_customer 완료\n"
     ]
    },
    {
     "data": {
      "text/plain": [
       "{'query': '한국 축구 국가대표님 전력분석을 해줘',\n",
       " 'query_id': '476d95d5aeff11f08ff500e04c36949a',\n",
       " 'history': [{'user_query': '한국 축구 국가대표님 전력분석을 해줘',\n",
       "   'ai_answer': '한국 축구 국가대표팀 전력 분석에 대한 정보를 요청하셨군요. 죄송하지만 현재 제가 참고할 수 있는 자료에는 한국 축구 국가대표팀의 상세한 전력 분석 내용은 포함되어 있지 않습니다. 혹시 다른 궁금한 점이 있으시다면 제가 아는 범위 내에서 성심껏 답변해 드리겠습니다.',\n",
       "   'ts': datetime.datetime(2025, 10, 22, 13, 26, 36, 238998)}],\n",
       " 'mode': 'ect',\n",
       " 'doc_val_reason': '사용자 요청은 한국 축구 국가대표팀 전력 분석으로, 야구와 관련이 없습니다. 따라서 task나 report에 해당하지 않아 ect로 분류합니다.',\n",
       " 'tasks': [],\n",
       " 'current_task_index': 0,\n",
       " 'results': [],\n",
       " 'final_output': '한국 축구 국가대표팀 전력 분석에 대한 정보를 요청하셨군요. 죄송하지만 현재 제가 참고할 수 있는 자료에는 한국 축구 국가대표팀의 상세한 전력 분석 내용은 포함되어 있지 않습니다. 혹시 다른 궁금한 점이 있으시다면 제가 아는 범위 내에서 성심껏 답변해 드리겠습니다.'}"
      ]
     },
     "execution_count": 4,
     "metadata": {},
     "output_type": "execute_result"
    }
   ],
   "source": [
    "conversation_id = \"my-test-session-001\" \n",
    "config = {\"configurable\": {\"thread_id\": conversation_id}}\n",
    "\n",
    "graph.invoke({'query':'한국 축구 국가대표님 전력분석을 해줘'}, config=config)"
   ]
  }
 ],
 "metadata": {
  "kernelspec": {
   "display_name": "Python 3 (ipykernel)",
   "language": "python",
   "name": "python3"
  },
  "language_info": {
   "codemirror_mode": {
    "name": "ipython",
    "version": 3
   },
   "file_extension": ".py",
   "mimetype": "text/x-python",
   "name": "python",
   "nbconvert_exporter": "python",
   "pygments_lexer": "ipython3",
   "version": "3.11.1"
  }
 },
 "nbformat": 4,
 "nbformat_minor": 5
}
